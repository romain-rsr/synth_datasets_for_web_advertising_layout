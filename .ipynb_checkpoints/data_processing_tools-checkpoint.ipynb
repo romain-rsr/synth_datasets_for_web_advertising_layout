{
 "cells": [
  {
   "cell_type": "code",
   "execution_count": null,
   "metadata": {},
   "outputs": [],
   "source": []
  },
  {
   "cell_type": "code",
   "execution_count": 1,
   "metadata": {},
   "outputs": [],
   "source": [
    "import numpy as np\n",
    "import sys\n",
    "from layout_create_data import *\n",
    "from layout_process import *\n",
    "from layout_eval import *\n",
    "from image_process import *"
   ]
  },
  {
   "cell_type": "code",
   "execution_count": null,
   "metadata": {},
   "outputs": [],
   "source": []
  },
  {
   "cell_type": "code",
   "execution_count": 2,
   "metadata": {
    "scrolled": true
   },
   "outputs": [
    {
     "name": "stdout",
     "output_type": "stream",
     "text": [
      "synthetic layouts where general rules apply :\n"
     ]
    },
    {
     "data": {
      "image/png": "[encoded data removed]",
      "text/plain": [
       "<PIL.Image.Image image mode=RGBA size=100x200 at 0x7F4FD5304430>"
      ]
     },
     "metadata": {},
     "output_type": "display_data"
    },
    {
     "data": {
      "image/png": "[encoded data removed]",
      "text/plain": [
       "<PIL.Image.Image image mode=RGBA size=100x200 at 0x7F4FD5304730>"
      ]
     },
     "metadata": {},
     "output_type": "display_data"
    },
    {
     "data": {
      "image/png": "[encoded data removed]",
      "text/plain": [
       "<PIL.Image.Image image mode=RGBA size=100x200 at 0x7F4FD52EB880>"
      ]
     },
     "metadata": {},
     "output_type": "display_data"
    },
    {
     "data": {
      "image/png": "[encoded data removed]",
      "text/plain": [
       "<PIL.Image.Image image mode=RGBA size=100x200 at 0x7F4FD52EBB20>"
      ]
     },
     "metadata": {},
     "output_type": "display_data"
    },
    {
     "data": {
      "image/png": "[encoded data removed]",
      "text/plain": [
       "<PIL.Image.Image image mode=RGBA size=100x200 at 0x7F4FD52EB880>"
      ]
     },
     "metadata": {},
     "output_type": "display_data"
    },
    {
     "name": "stdout",
     "output_type": "stream",
     "text": [
      "\n",
      "\n",
      "\n",
      "\n",
      "synthetic layouts where blue-blue-blue specific rule applies :\n"
     ]
    },
    {
     "data": {
      "image/png": "[encoded data removed]",
      "text/plain": [
       "<PIL.Image.Image image mode=RGBA size=100x200 at 0x7F4FD6135790>"
      ]
     },
     "metadata": {},
     "output_type": "display_data"
    },
    {
     "data": {
      "image/png": "[encoded data removed]",
      "text/plain": [
       "<PIL.Image.Image image mode=RGBA size=100x200 at 0x7F4FD61357F0>"
      ]
     },
     "metadata": {},
     "output_type": "display_data"
    },
    {
     "data": {
      "image/png": "[encoded data removed]",
      "text/plain": [
       "<PIL.Image.Image image mode=RGBA size=100x200 at 0x7F4FD61356A0>"
      ]
     },
     "metadata": {},
     "output_type": "display_data"
    },
    {
     "data": {
      "image/png": "[encoded data removed]",
      "text/plain": [
       "<PIL.Image.Image image mode=RGBA size=100x200 at 0x7F4FD6135910>"
      ]
     },
     "metadata": {},
     "output_type": "display_data"
    },
    {
     "data": {
      "image/png": "[encoded data removed]",
      "text/plain": [
       "<PIL.Image.Image image mode=RGBA size=100x200 at 0x7F4FD6135850>"
      ]
     },
     "metadata": {},
     "output_type": "display_data"
    },
    {
     "name": "stdout",
     "output_type": "stream",
     "text": [
      "\n",
      "\n",
      "\n",
      "\n",
      "synthetic layouts where red-green-blue specific rule applies :\n"
     ]
    },
    {
     "data": {
      "image/png": "[encoded data removed]",
      "text/plain": [
       "<PIL.Image.Image image mode=RGBA size=100x200 at 0x7F4FD61B5790>"
      ]
     },
     "metadata": {},
     "output_type": "display_data"
    },
    {
     "data": {
      "image/png": "[encoded data removed]",
      "text/plain": [
       "<PIL.Image.Image image mode=RGBA size=100x200 at 0x7F5011123070>"
      ]
     },
     "metadata": {},
     "output_type": "display_data"
    },
    {
     "data": {
      "image/png": "[encoded data removed]",
      "text/plain": [
       "<PIL.Image.Image image mode=RGBA size=100x200 at 0x7F4FD61B57F0>"
      ]
     },
     "metadata": {},
     "output_type": "display_data"
    },
    {
     "data": {
      "image/png": "[encoded data removed]",
      "text/plain": [
       "<PIL.Image.Image image mode=RGBA size=100x200 at 0x7F4FD61B5940>"
      ]
     },
     "metadata": {},
     "output_type": "display_data"
    },
    {
     "data": {
      "image/png": "[encoded data removed]",
      "text/plain": [
       "<PIL.Image.Image image mode=RGBA size=100x200 at 0x7F4FD61B56D0>"
      ]
     },
     "metadata": {},
     "output_type": "display_data"
    },
    {
     "name": "stdout",
     "output_type": "stream",
     "text": [
      "\n",
      "\n",
      "\n",
      "\n"
     ]
    }
   ],
   "source": [
    "#------------------------------------------------------------------------------------------------------------------\n",
    "#                          first synthetic dataset (fictitious layout rules)\n",
    "#------------------------------------------------------------------------------------------------------------------\n",
    "\n",
    "'''\n",
    "\n",
    "In this dataset, most of the layouts have been created randomly within general constraints, \n",
    "while a minority of other layouts in this dataset have been created through specific rules. \n",
    "\n",
    "Each specific rule is applied to layouts where the colors of the elements match a specific sequence.\n",
    "To get the color sequence of a layout, we check the color of each element in the reading order of the elements,\n",
    "which is randomly set in this first synthetic dataset.\n",
    "\n",
    "# general constraints\n",
    "\n",
    "- elements must not overlap and a minimum space must be kept empty between them\n",
    "- elements must not exceed borders\n",
    "\n",
    "# specific constraints\n",
    "\n",
    "- bbb  => the left border of each element must stick to the left border of the screen\n",
    "- bgb  => last element stick on the bottom of the screen, penultimate stick a few pixels above last element\n",
    "- ggg  => elements stick on corners (all expected low left corner)\n",
    "- rrr  => all elements are placed at the middle of the screen, with equal dimensions and distance from each other\n",
    "- rrb  => all elements are placed at the top of the screen, with equal dimensions and distance from each other\n",
    "- bbg  => all elements are placed at the bottom of the screen, with equal dimensions and distance from each other\n",
    "- ggr  => all elements are placed at the bottom of the screen, with equal dimensions and distance from each other\n",
    "- brb  => elements form a diagonal going in the low right direction, without overlap\n",
    "- rgb  => elements form a diagonal going in the low right direction, with specific overlap\n",
    "- rbr  => elements form a diagonal going in the low left direction, without overlap\n",
    "\n",
    "NB : each trigram on the left represents a color combination\n",
    "e.g. : bbb means that the elements colors of the layout are : blue-blue-blue\n",
    "e.g. : ggr means that the elements colors of the layout are : green-green-red\n",
    "\n",
    "'''\n",
    "\n",
    "\n",
    "if 0==1:\n",
    "    \n",
    "    # create synthetic layouts\n",
    "    n_samples=1000000\n",
    "    create_synth1(n_samples)\n",
    "    print(\"\\n\\n\\n\")\n",
    "\n",
    "# load synthetic layouts\n",
    "x_synth1=np.load(\"data/x_synth1.npy\")\n",
    "y_synth1=np.load(\"data/y_synth1.npy\")\n",
    "\n",
    "# display synthetic layouts\n",
    "print(\"synthetic layouts where general rules apply :\")\n",
    "display_synth_samples_1(x_synth1,y_synth1,5,\"general\")\n",
    "print(\"\\n\\n\\n\")\n",
    "        \n",
    "print(\"synthetic layouts where blue-blue-blue specific rule applies :\")\n",
    "display_synth_samples_1(x_synth1,y_synth1,5,\"bbb\")\n",
    "print(\"\\n\\n\\n\")\n",
    "    \n",
    "print(\"synthetic layouts where red-green-blue specific rule applies :\")\n",
    "display_synth_samples_1(x_synth1,y_synth1,5,\"rgb\")\n",
    "print(\"\\n\\n\\n\")"
   ]
  },
  {
   "cell_type": "code",
   "execution_count": null,
   "metadata": {},
   "outputs": [],
   "source": []
  },
  {
   "cell_type": "code",
   "execution_count": 3,
   "metadata": {
    "scrolled": true
   },
   "outputs": [
    {
     "name": "stdout",
     "output_type": "stream",
     "text": [
      "------------ layout 0\n",
      "image\n",
      "image\n",
      "text\n"
     ]
    },
    {
     "data": {
      "image/png": "[encoded data removed]",
      "text/plain": [
       "<PIL.Image.Image image mode=RGBA size=100x200 at 0x7F4FCC3929A0>"
      ]
     },
     "metadata": {},
     "output_type": "display_data"
    },
    {
     "name": "stdout",
     "output_type": "stream",
     "text": [
      "------------ layout 1\n",
      "text\n",
      "image\n",
      "image\n"
     ]
    },
    {
     "data": {
      "image/png": "[encoded data removed]",
      "text/plain": [
       "<PIL.Image.Image image mode=RGBA size=100x200 at 0x7F4FCC392CA0>"
      ]
     },
     "metadata": {},
     "output_type": "display_data"
    },
    {
     "name": "stdout",
     "output_type": "stream",
     "text": [
      "------------ layout 2\n",
      "cta\n",
      "text\n",
      "image\n"
     ]
    },
    {
     "data": {
      "image/png": "[encoded data removed]",
      "text/plain": [
       "<PIL.Image.Image image mode=RGBA size=100x200 at 0x7F4FCC3929A0>"
      ]
     },
     "metadata": {},
     "output_type": "display_data"
    },
    {
     "name": "stdout",
     "output_type": "stream",
     "text": [
      "------------ layout 3\n",
      "text\n",
      "text\n",
      "text\n"
     ]
    },
    {
     "data": {
      "image/png": "[encoded data removed]",
      "text/plain": [
       "<PIL.Image.Image image mode=RGBA size=100x200 at 0x7F4FCC3928B0>"
      ]
     },
     "metadata": {},
     "output_type": "display_data"
    },
    {
     "name": "stdout",
     "output_type": "stream",
     "text": [
      "------------ layout 4\n",
      "text\n",
      "cta\n",
      "text\n"
     ]
    },
    {
     "data": {
      "image/png": "[encoded data removed]",
      "text/plain": [
       "<PIL.Image.Image image mode=RGBA size=100x200 at 0x7F4FCC3927F0>"
      ]
     },
     "metadata": {},
     "output_type": "display_data"
    }
   ],
   "source": [
    "#------------------------------------------------------------------------------------------------------------------\n",
    "#                              second synthetic dataset (realistic layout rules)\n",
    "#------------------------------------------------------------------------------------------------------------------\n",
    "\n",
    "if 0==1:\n",
    "        \n",
    "    # create synthetic layouts\n",
    "    n_samples=100000\n",
    "    create_synth2(n_samples)\n",
    "    print(\"\\n\\n\\n\")\n",
    "\n",
    "# load synthetic layouts\n",
    "x=np.load(\"data/x_synth2.npy\")\n",
    "y=np.load(\"data/y_synth2.npy\")\n",
    "samples=get_samples_from_xy(x,y,[],2)\n",
    "\n",
    "# display some synthetic layouts\n",
    "i=-1\n",
    "for sample in samples[10:15]:\n",
    "    i+=1\n",
    "    print(\"------------ layout\",i)\n",
    "    print(sample.assets[0].type)\n",
    "    print(sample.assets[1].type)\n",
    "    print(sample.assets[2].type)\n",
    "    show_synth_sample(sample,\"\")"
   ]
  },
  {
   "cell_type": "code",
   "execution_count": null,
   "metadata": {},
   "outputs": [],
   "source": []
  },
  {
   "cell_type": "code",
   "execution_count": 7,
   "metadata": {},
   "outputs": [
    {
     "name": "stdout",
     "output_type": "stream",
     "text": [
      "Samples in Critical Error : 0.08\n"
     ]
    }
   ],
   "source": [
    "#------------------------------------------------------------------------------------------------------------------\n",
    "#                               evaluation of generated samples\n",
    "#------------------------------------------------------------------------------------------------------------------\n",
    "\n",
    "# load predictions on synthetic layouts II\n",
    "x=np.load(\"data/x_synth2_pred.npy\")\n",
    "y=np.load(\"data/y_synth2_pred.npy\")\n",
    "samples=get_samples_from_xy(x,y,[],2)\n",
    "\n",
    "# evaluation of samples generated by a learning model (example measure : Samples in Critical Error)\n",
    "s,samples_in_critical_error=quant_eval(samples,1)\n",
    "print(\"Samples in Critical Error :\",samples_in_critical_error)"
   ]
  },
  {
   "cell_type": "code",
   "execution_count": null,
   "metadata": {},
   "outputs": [],
   "source": []
  },
  {
   "cell_type": "code",
   "execution_count": 8,
   "metadata": {},
   "outputs": [
    {
     "name": "stdout",
     "output_type": "stream",
     "text": [
      "\n",
      "layout n°0 : original layout (elements contents are warped\n"
     ]
    },
    {
     "data": {
      "image/png": "[encoded data removed]",
      "text/plain": [
       "<PIL.Image.Image image mode=RGBA size=100x199 at 0x7F4FD80CD970>"
      ]
     },
     "metadata": {},
     "output_type": "display_data"
    },
    {
     "name": "stdout",
     "output_type": "stream",
     "text": [
      "\n",
      "\n",
      "layout n°0 : colour frames representation\n"
     ]
    },
    {
     "data": {
      "image/png": "[encoded data removed]",
      "text/plain": [
       "<PIL.Image.Image image mode=RGBA size=100x200 at 0x7F5011103E50>"
      ]
     },
     "metadata": {},
     "output_type": "display_data"
    },
    {
     "name": "stdout",
     "output_type": "stream",
     "text": [
      "\n",
      "\n",
      "\n",
      "\n",
      "some real layouts (as color frames representations)\n",
      "\n",
      "------------ layout 0\n",
      "text\n",
      "cta\n",
      "logo\n"
     ]
    },
    {
     "data": {
      "image/png": "[encoded data removed]",
      "text/plain": [
       "<PIL.Image.Image image mode=RGBA size=100x200 at 0x7F5011103E50>"
      ]
     },
     "metadata": {},
     "output_type": "display_data"
    },
    {
     "name": "stdout",
     "output_type": "stream",
     "text": [
      "------------ layout 1\n",
      "text\n",
      "cta\n",
      "logo\n"
     ]
    },
    {
     "data": {
      "image/png": "[encoded data removed]",
      "text/plain": [
       "<PIL.Image.Image image mode=RGBA size=100x200 at 0x7F501111C4C0>"
      ]
     },
     "metadata": {},
     "output_type": "display_data"
    },
    {
     "name": "stdout",
     "output_type": "stream",
     "text": [
      "------------ layout 2\n",
      "text\n",
      "image\n",
      "cta\n"
     ]
    },
    {
     "data": {
      "image/png": "[encoded data removed]",
      "text/plain": [
       "<PIL.Image.Image image mode=RGBA size=100x200 at 0x7F501111C580>"
      ]
     },
     "metadata": {},
     "output_type": "display_data"
    },
    {
     "name": "stdout",
     "output_type": "stream",
     "text": [
      "------------ layout 3\n",
      "text\n",
      "cta\n",
      "logo\n"
     ]
    },
    {
     "data": {
      "image/png": "[encoded data removed]",
      "text/plain": [
       "<PIL.Image.Image image mode=RGBA size=100x200 at 0x7F501111CD90>"
      ]
     },
     "metadata": {},
     "output_type": "display_data"
    },
    {
     "name": "stdout",
     "output_type": "stream",
     "text": [
      "------------ layout 4\n",
      "text\n",
      "cta\n",
      "logo\n"
     ]
    },
    {
     "data": {
      "image/png": "[encoded data removed]",
      "text/plain": [
       "<PIL.Image.Image image mode=RGBA size=100x200 at 0x7F5011103E50>"
      ]
     },
     "metadata": {},
     "output_type": "display_data"
    }
   ],
   "source": [
    "#------------------------------------------------------------------------------------------------------------------\n",
    "#                 real cases dataset (frame representation of real world advertising layouts)\n",
    "#------------------------------------------------------------------------------------------------------------------\n",
    "\n",
    "# get real samples (as frames)\n",
    "names=read_pl(\"data/names.txt\")\n",
    "x=np.load(\"data/x_real.npy\")\n",
    "y=np.load(\"data/y_real.npy\")\n",
    "samples=get_samples_from_xy_real(x,y,names)\n",
    "\n",
    "# colour frames representation of real layouts\n",
    "print(\"\")\n",
    "print(\"layout n°0 : original layout (elements contents are warped\")\n",
    "display(get_image_from_npa(resize_image(np.array(Image.open(\"data/layout_0.png\")),100)))\n",
    "print(\"\\n\")\n",
    "print(\"layout n°0 : colour frames representation\")\n",
    "show_synth_sample(samples[0],\"\")\n",
    "print(\"\\n\\n\\n\")\n",
    "\n",
    "# display some real layouts (as color frames representations)\n",
    "print(\"some real layouts (as color frames representations)\")\n",
    "print(\"\")\n",
    "i=-1\n",
    "for sample in samples[:5]:\n",
    "    i+=1\n",
    "    print(\"------------ layout\",i)\n",
    "    print(sample.assets[0].type)\n",
    "    print(sample.assets[1].type)\n",
    "    print(sample.assets[2].type)\n",
    "    show_synth_sample(sample,\"\")"
   ]
  },
  {
   "cell_type": "code",
   "execution_count": null,
   "metadata": {},
   "outputs": [],
   "source": []
  },
  {
   "cell_type": "code",
   "execution_count": null,
   "metadata": {},
   "outputs": [],
   "source": []
  },
  {
   "cell_type": "code",
   "execution_count": null,
   "metadata": {},
   "outputs": [],
   "source": []
  },
  {
   "cell_type": "code",
   "execution_count": null,
   "metadata": {},
   "outputs": [],
   "source": []
  },
  {
   "cell_type": "code",
   "execution_count": null,
   "metadata": {},
   "outputs": [],
   "source": []
  },
  {
   "cell_type": "code",
   "execution_count": null,
   "metadata": {},
   "outputs": [],
   "source": []
  },
  {
   "cell_type": "code",
   "execution_count": null,
   "metadata": {},
   "outputs": [],
   "source": []
  }
 ],
 "metadata": {
  "kernelspec": {
   "display_name": "Python 3",
   "language": "python",
   "name": "python3"
  },
  "language_info": {
   "codemirror_mode": {
    "name": "ipython",
    "version": 3
   },
   "file_extension": ".py",
   "mimetype": "text/x-python",
   "name": "python",
   "nbconvert_exporter": "python",
   "pygments_lexer": "ipython3",
   "version": "3.8.5"
  }
 },
 "nbformat": 4,
 "nbformat_minor": 4
}
